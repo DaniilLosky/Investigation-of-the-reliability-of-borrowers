{
 "cells": [
  {
   "cell_type": "markdown",
   "id": "4f11de00",
   "metadata": {
    "deletable": false,
    "editable": false,
    "id": "4f11de00"
   },
   "source": [
    "# Исследование надежности заемщиков"
   ]
  },
  {
   "cell_type": "markdown",
   "id": "f09d6878",
   "metadata": {
    "deletable": false,
    "editable": false,
    "id": "f09d6878"
   },
   "source": [
    "Это первая часть проекта, она будет проверена автоматически. Вторую часть проверит ревьюер. "
   ]
  },
  {
   "cell_type": "markdown",
   "id": "516620ee",
   "metadata": {
    "deletable": false,
    "editable": false,
    "id": "516620ee"
   },
   "source": [
    "## Откройте таблицу и изучите общую информацию о данных"
   ]
  },
  {
   "cell_type": "markdown",
   "id": "76a8a9ce",
   "metadata": {
    "deletable": false,
    "editable": false,
    "id": "76a8a9ce",
    "tags": [
     "start_task"
    ]
   },
   "source": [
    "**Задание 1. Импортируйте библиотеку pandas. Считайте данные из csv-файла в датафрейм и сохраните в переменную `data`. Путь к файлу:**\n",
    "\n",
    "`/datasets/data.csv`"
   ]
  },
  {
   "cell_type": "code",
   "execution_count": 1,
   "id": "fab207d0",
   "metadata": {
    "id": "fab207d0"
   },
   "outputs": [],
   "source": [
    "import pandas as pd# импортируйте библиотеку pandas"
   ]
  },
  {
   "cell_type": "code",
   "execution_count": 2,
   "id": "6c82b607",
   "metadata": {
    "id": "6c82b607"
   },
   "outputs": [],
   "source": [
    "data = pd.read_csv('/datasets/data.csv') # прочитайте csv-файл"
   ]
  },
  {
   "cell_type": "markdown",
   "id": "08bbb5b3",
   "metadata": {
    "deletable": false,
    "editable": false,
    "id": "08bbb5b3",
    "tags": [
     "start_task"
    ]
   },
   "source": [
    "**Задание 2. Выведите первые 20 строчек датафрейма `data` на экран.**"
   ]
  },
  {
   "cell_type": "code",
   "execution_count": 3,
   "id": "4ff33b36",
   "metadata": {
    "id": "4ff33b36"
   },
   "outputs": [
    {
     "data": {
      "text/html": [
       "<div>\n",
       "<style scoped>\n",
       "    .dataframe tbody tr th:only-of-type {\n",
       "        vertical-align: middle;\n",
       "    }\n",
       "\n",
       "    .dataframe tbody tr th {\n",
       "        vertical-align: top;\n",
       "    }\n",
       "\n",
       "    .dataframe thead th {\n",
       "        text-align: right;\n",
       "    }\n",
       "</style>\n",
       "<table border=\"1\" class=\"dataframe\">\n",
       "  <thead>\n",
       "    <tr style=\"text-align: right;\">\n",
       "      <th></th>\n",
       "      <th>children</th>\n",
       "      <th>days_employed</th>\n",
       "      <th>dob_years</th>\n",
       "      <th>education</th>\n",
       "      <th>education_id</th>\n",
       "      <th>family_status</th>\n",
       "      <th>family_status_id</th>\n",
       "      <th>gender</th>\n",
       "      <th>income_type</th>\n",
       "      <th>debt</th>\n",
       "      <th>total_income</th>\n",
       "      <th>purpose</th>\n",
       "    </tr>\n",
       "  </thead>\n",
       "  <tbody>\n",
       "    <tr>\n",
       "      <th>0</th>\n",
       "      <td>1</td>\n",
       "      <td>-8437.673028</td>\n",
       "      <td>42</td>\n",
       "      <td>высшее</td>\n",
       "      <td>0</td>\n",
       "      <td>женат / замужем</td>\n",
       "      <td>0</td>\n",
       "      <td>F</td>\n",
       "      <td>сотрудник</td>\n",
       "      <td>0</td>\n",
       "      <td>253875.639453</td>\n",
       "      <td>покупка жилья</td>\n",
       "    </tr>\n",
       "    <tr>\n",
       "      <th>1</th>\n",
       "      <td>1</td>\n",
       "      <td>-4024.803754</td>\n",
       "      <td>36</td>\n",
       "      <td>среднее</td>\n",
       "      <td>1</td>\n",
       "      <td>женат / замужем</td>\n",
       "      <td>0</td>\n",
       "      <td>F</td>\n",
       "      <td>сотрудник</td>\n",
       "      <td>0</td>\n",
       "      <td>112080.014102</td>\n",
       "      <td>приобретение автомобиля</td>\n",
       "    </tr>\n",
       "    <tr>\n",
       "      <th>2</th>\n",
       "      <td>0</td>\n",
       "      <td>-5623.422610</td>\n",
       "      <td>33</td>\n",
       "      <td>Среднее</td>\n",
       "      <td>1</td>\n",
       "      <td>женат / замужем</td>\n",
       "      <td>0</td>\n",
       "      <td>M</td>\n",
       "      <td>сотрудник</td>\n",
       "      <td>0</td>\n",
       "      <td>145885.952297</td>\n",
       "      <td>покупка жилья</td>\n",
       "    </tr>\n",
       "    <tr>\n",
       "      <th>3</th>\n",
       "      <td>3</td>\n",
       "      <td>-4124.747207</td>\n",
       "      <td>32</td>\n",
       "      <td>среднее</td>\n",
       "      <td>1</td>\n",
       "      <td>женат / замужем</td>\n",
       "      <td>0</td>\n",
       "      <td>M</td>\n",
       "      <td>сотрудник</td>\n",
       "      <td>0</td>\n",
       "      <td>267628.550329</td>\n",
       "      <td>дополнительное образование</td>\n",
       "    </tr>\n",
       "    <tr>\n",
       "      <th>4</th>\n",
       "      <td>0</td>\n",
       "      <td>340266.072047</td>\n",
       "      <td>53</td>\n",
       "      <td>среднее</td>\n",
       "      <td>1</td>\n",
       "      <td>гражданский брак</td>\n",
       "      <td>1</td>\n",
       "      <td>F</td>\n",
       "      <td>пенсионер</td>\n",
       "      <td>0</td>\n",
       "      <td>158616.077870</td>\n",
       "      <td>сыграть свадьбу</td>\n",
       "    </tr>\n",
       "    <tr>\n",
       "      <th>5</th>\n",
       "      <td>0</td>\n",
       "      <td>-926.185831</td>\n",
       "      <td>27</td>\n",
       "      <td>высшее</td>\n",
       "      <td>0</td>\n",
       "      <td>гражданский брак</td>\n",
       "      <td>1</td>\n",
       "      <td>M</td>\n",
       "      <td>компаньон</td>\n",
       "      <td>0</td>\n",
       "      <td>255763.565419</td>\n",
       "      <td>покупка жилья</td>\n",
       "    </tr>\n",
       "    <tr>\n",
       "      <th>6</th>\n",
       "      <td>0</td>\n",
       "      <td>-2879.202052</td>\n",
       "      <td>43</td>\n",
       "      <td>высшее</td>\n",
       "      <td>0</td>\n",
       "      <td>женат / замужем</td>\n",
       "      <td>0</td>\n",
       "      <td>F</td>\n",
       "      <td>компаньон</td>\n",
       "      <td>0</td>\n",
       "      <td>240525.971920</td>\n",
       "      <td>операции с жильем</td>\n",
       "    </tr>\n",
       "    <tr>\n",
       "      <th>7</th>\n",
       "      <td>0</td>\n",
       "      <td>-152.779569</td>\n",
       "      <td>50</td>\n",
       "      <td>СРЕДНЕЕ</td>\n",
       "      <td>1</td>\n",
       "      <td>женат / замужем</td>\n",
       "      <td>0</td>\n",
       "      <td>M</td>\n",
       "      <td>сотрудник</td>\n",
       "      <td>0</td>\n",
       "      <td>135823.934197</td>\n",
       "      <td>образование</td>\n",
       "    </tr>\n",
       "    <tr>\n",
       "      <th>8</th>\n",
       "      <td>2</td>\n",
       "      <td>-6929.865299</td>\n",
       "      <td>35</td>\n",
       "      <td>ВЫСШЕЕ</td>\n",
       "      <td>0</td>\n",
       "      <td>гражданский брак</td>\n",
       "      <td>1</td>\n",
       "      <td>F</td>\n",
       "      <td>сотрудник</td>\n",
       "      <td>0</td>\n",
       "      <td>95856.832424</td>\n",
       "      <td>на проведение свадьбы</td>\n",
       "    </tr>\n",
       "    <tr>\n",
       "      <th>9</th>\n",
       "      <td>0</td>\n",
       "      <td>-2188.756445</td>\n",
       "      <td>41</td>\n",
       "      <td>среднее</td>\n",
       "      <td>1</td>\n",
       "      <td>женат / замужем</td>\n",
       "      <td>0</td>\n",
       "      <td>M</td>\n",
       "      <td>сотрудник</td>\n",
       "      <td>0</td>\n",
       "      <td>144425.938277</td>\n",
       "      <td>покупка жилья для семьи</td>\n",
       "    </tr>\n",
       "    <tr>\n",
       "      <th>10</th>\n",
       "      <td>2</td>\n",
       "      <td>-4171.483647</td>\n",
       "      <td>36</td>\n",
       "      <td>высшее</td>\n",
       "      <td>0</td>\n",
       "      <td>женат / замужем</td>\n",
       "      <td>0</td>\n",
       "      <td>M</td>\n",
       "      <td>компаньон</td>\n",
       "      <td>0</td>\n",
       "      <td>113943.491460</td>\n",
       "      <td>покупка недвижимости</td>\n",
       "    </tr>\n",
       "    <tr>\n",
       "      <th>11</th>\n",
       "      <td>0</td>\n",
       "      <td>-792.701887</td>\n",
       "      <td>40</td>\n",
       "      <td>среднее</td>\n",
       "      <td>1</td>\n",
       "      <td>женат / замужем</td>\n",
       "      <td>0</td>\n",
       "      <td>F</td>\n",
       "      <td>сотрудник</td>\n",
       "      <td>0</td>\n",
       "      <td>77069.234271</td>\n",
       "      <td>покупка коммерческой недвижимости</td>\n",
       "    </tr>\n",
       "    <tr>\n",
       "      <th>12</th>\n",
       "      <td>0</td>\n",
       "      <td>NaN</td>\n",
       "      <td>65</td>\n",
       "      <td>среднее</td>\n",
       "      <td>1</td>\n",
       "      <td>гражданский брак</td>\n",
       "      <td>1</td>\n",
       "      <td>M</td>\n",
       "      <td>пенсионер</td>\n",
       "      <td>0</td>\n",
       "      <td>NaN</td>\n",
       "      <td>сыграть свадьбу</td>\n",
       "    </tr>\n",
       "    <tr>\n",
       "      <th>13</th>\n",
       "      <td>0</td>\n",
       "      <td>-1846.641941</td>\n",
       "      <td>54</td>\n",
       "      <td>неоконченное высшее</td>\n",
       "      <td>2</td>\n",
       "      <td>женат / замужем</td>\n",
       "      <td>0</td>\n",
       "      <td>F</td>\n",
       "      <td>сотрудник</td>\n",
       "      <td>0</td>\n",
       "      <td>130458.228857</td>\n",
       "      <td>приобретение автомобиля</td>\n",
       "    </tr>\n",
       "    <tr>\n",
       "      <th>14</th>\n",
       "      <td>0</td>\n",
       "      <td>-1844.956182</td>\n",
       "      <td>56</td>\n",
       "      <td>высшее</td>\n",
       "      <td>0</td>\n",
       "      <td>гражданский брак</td>\n",
       "      <td>1</td>\n",
       "      <td>F</td>\n",
       "      <td>компаньон</td>\n",
       "      <td>1</td>\n",
       "      <td>165127.911772</td>\n",
       "      <td>покупка жилой недвижимости</td>\n",
       "    </tr>\n",
       "    <tr>\n",
       "      <th>15</th>\n",
       "      <td>1</td>\n",
       "      <td>-972.364419</td>\n",
       "      <td>26</td>\n",
       "      <td>среднее</td>\n",
       "      <td>1</td>\n",
       "      <td>женат / замужем</td>\n",
       "      <td>0</td>\n",
       "      <td>F</td>\n",
       "      <td>сотрудник</td>\n",
       "      <td>0</td>\n",
       "      <td>116820.904450</td>\n",
       "      <td>строительство собственной недвижимости</td>\n",
       "    </tr>\n",
       "    <tr>\n",
       "      <th>16</th>\n",
       "      <td>0</td>\n",
       "      <td>-1719.934226</td>\n",
       "      <td>35</td>\n",
       "      <td>среднее</td>\n",
       "      <td>1</td>\n",
       "      <td>женат / замужем</td>\n",
       "      <td>0</td>\n",
       "      <td>F</td>\n",
       "      <td>сотрудник</td>\n",
       "      <td>0</td>\n",
       "      <td>289202.704229</td>\n",
       "      <td>недвижимость</td>\n",
       "    </tr>\n",
       "    <tr>\n",
       "      <th>17</th>\n",
       "      <td>0</td>\n",
       "      <td>-2369.999720</td>\n",
       "      <td>33</td>\n",
       "      <td>высшее</td>\n",
       "      <td>0</td>\n",
       "      <td>гражданский брак</td>\n",
       "      <td>1</td>\n",
       "      <td>M</td>\n",
       "      <td>сотрудник</td>\n",
       "      <td>0</td>\n",
       "      <td>90410.586745</td>\n",
       "      <td>строительство недвижимости</td>\n",
       "    </tr>\n",
       "    <tr>\n",
       "      <th>18</th>\n",
       "      <td>0</td>\n",
       "      <td>400281.136913</td>\n",
       "      <td>53</td>\n",
       "      <td>среднее</td>\n",
       "      <td>1</td>\n",
       "      <td>вдовец / вдова</td>\n",
       "      <td>2</td>\n",
       "      <td>F</td>\n",
       "      <td>пенсионер</td>\n",
       "      <td>0</td>\n",
       "      <td>56823.777243</td>\n",
       "      <td>на покупку подержанного автомобиля</td>\n",
       "    </tr>\n",
       "    <tr>\n",
       "      <th>19</th>\n",
       "      <td>0</td>\n",
       "      <td>-10038.818549</td>\n",
       "      <td>48</td>\n",
       "      <td>СРЕДНЕЕ</td>\n",
       "      <td>1</td>\n",
       "      <td>в разводе</td>\n",
       "      <td>3</td>\n",
       "      <td>F</td>\n",
       "      <td>сотрудник</td>\n",
       "      <td>0</td>\n",
       "      <td>242831.107982</td>\n",
       "      <td>на покупку своего автомобиля</td>\n",
       "    </tr>\n",
       "  </tbody>\n",
       "</table>\n",
       "</div>"
      ],
      "text/plain": [
       "    children  days_employed  dob_years            education  education_id  \\\n",
       "0          1   -8437.673028         42               высшее             0   \n",
       "1          1   -4024.803754         36              среднее             1   \n",
       "2          0   -5623.422610         33              Среднее             1   \n",
       "3          3   -4124.747207         32              среднее             1   \n",
       "4          0  340266.072047         53              среднее             1   \n",
       "5          0    -926.185831         27               высшее             0   \n",
       "6          0   -2879.202052         43               высшее             0   \n",
       "7          0    -152.779569         50              СРЕДНЕЕ             1   \n",
       "8          2   -6929.865299         35               ВЫСШЕЕ             0   \n",
       "9          0   -2188.756445         41              среднее             1   \n",
       "10         2   -4171.483647         36               высшее             0   \n",
       "11         0    -792.701887         40              среднее             1   \n",
       "12         0            NaN         65              среднее             1   \n",
       "13         0   -1846.641941         54  неоконченное высшее             2   \n",
       "14         0   -1844.956182         56               высшее             0   \n",
       "15         1    -972.364419         26              среднее             1   \n",
       "16         0   -1719.934226         35              среднее             1   \n",
       "17         0   -2369.999720         33               высшее             0   \n",
       "18         0  400281.136913         53              среднее             1   \n",
       "19         0  -10038.818549         48              СРЕДНЕЕ             1   \n",
       "\n",
       "       family_status  family_status_id gender income_type  debt  \\\n",
       "0    женат / замужем                 0      F   сотрудник     0   \n",
       "1    женат / замужем                 0      F   сотрудник     0   \n",
       "2    женат / замужем                 0      M   сотрудник     0   \n",
       "3    женат / замужем                 0      M   сотрудник     0   \n",
       "4   гражданский брак                 1      F   пенсионер     0   \n",
       "5   гражданский брак                 1      M   компаньон     0   \n",
       "6    женат / замужем                 0      F   компаньон     0   \n",
       "7    женат / замужем                 0      M   сотрудник     0   \n",
       "8   гражданский брак                 1      F   сотрудник     0   \n",
       "9    женат / замужем                 0      M   сотрудник     0   \n",
       "10   женат / замужем                 0      M   компаньон     0   \n",
       "11   женат / замужем                 0      F   сотрудник     0   \n",
       "12  гражданский брак                 1      M   пенсионер     0   \n",
       "13   женат / замужем                 0      F   сотрудник     0   \n",
       "14  гражданский брак                 1      F   компаньон     1   \n",
       "15   женат / замужем                 0      F   сотрудник     0   \n",
       "16   женат / замужем                 0      F   сотрудник     0   \n",
       "17  гражданский брак                 1      M   сотрудник     0   \n",
       "18    вдовец / вдова                 2      F   пенсионер     0   \n",
       "19         в разводе                 3      F   сотрудник     0   \n",
       "\n",
       "     total_income                                 purpose  \n",
       "0   253875.639453                           покупка жилья  \n",
       "1   112080.014102                 приобретение автомобиля  \n",
       "2   145885.952297                           покупка жилья  \n",
       "3   267628.550329              дополнительное образование  \n",
       "4   158616.077870                         сыграть свадьбу  \n",
       "5   255763.565419                           покупка жилья  \n",
       "6   240525.971920                       операции с жильем  \n",
       "7   135823.934197                             образование  \n",
       "8    95856.832424                   на проведение свадьбы  \n",
       "9   144425.938277                 покупка жилья для семьи  \n",
       "10  113943.491460                    покупка недвижимости  \n",
       "11   77069.234271       покупка коммерческой недвижимости  \n",
       "12            NaN                         сыграть свадьбу  \n",
       "13  130458.228857                 приобретение автомобиля  \n",
       "14  165127.911772              покупка жилой недвижимости  \n",
       "15  116820.904450  строительство собственной недвижимости  \n",
       "16  289202.704229                            недвижимость  \n",
       "17   90410.586745              строительство недвижимости  \n",
       "18   56823.777243      на покупку подержанного автомобиля  \n",
       "19  242831.107982            на покупку своего автомобиля  "
      ]
     },
     "execution_count": 3,
     "metadata": {},
     "output_type": "execute_result"
    }
   ],
   "source": [
    "data.head(20)# ваш код здесь"
   ]
  },
  {
   "cell_type": "markdown",
   "id": "c8f382ae",
   "metadata": {
    "deletable": false,
    "editable": false,
    "id": "c8f382ae",
    "tags": [
     "start_task"
    ]
   },
   "source": [
    "**Задание 3. Выведите основную информацию о датафрейме с помощью метода `info()`.**"
   ]
  },
  {
   "cell_type": "code",
   "execution_count": 4,
   "id": "e1ed9908",
   "metadata": {
    "id": "e1ed9908"
   },
   "outputs": [
    {
     "name": "stdout",
     "output_type": "stream",
     "text": [
      "<class 'pandas.core.frame.DataFrame'>\n",
      "RangeIndex: 21525 entries, 0 to 21524\n",
      "Data columns (total 12 columns):\n",
      " #   Column            Non-Null Count  Dtype  \n",
      "---  ------            --------------  -----  \n",
      " 0   children          21525 non-null  int64  \n",
      " 1   days_employed     19351 non-null  float64\n",
      " 2   dob_years         21525 non-null  int64  \n",
      " 3   education         21525 non-null  object \n",
      " 4   education_id      21525 non-null  int64  \n",
      " 5   family_status     21525 non-null  object \n",
      " 6   family_status_id  21525 non-null  int64  \n",
      " 7   gender            21525 non-null  object \n",
      " 8   income_type       21525 non-null  object \n",
      " 9   debt              21525 non-null  int64  \n",
      " 10  total_income      19351 non-null  float64\n",
      " 11  purpose           21525 non-null  object \n",
      "dtypes: float64(2), int64(5), object(5)\n",
      "memory usage: 2.0+ MB\n"
     ]
    }
   ],
   "source": [
    "data.info() # ваш код здесь"
   ]
  },
  {
   "cell_type": "markdown",
   "id": "f969a1cd",
   "metadata": {
    "deletable": false,
    "editable": false,
    "id": "f969a1cd"
   },
   "source": [
    "## Предобработка данных"
   ]
  },
  {
   "cell_type": "markdown",
   "id": "7283e864",
   "metadata": {
    "deletable": false,
    "editable": false,
    "id": "7283e864"
   },
   "source": [
    "### Удаление пропусков"
   ]
  },
  {
   "cell_type": "markdown",
   "id": "c9a0745e",
   "metadata": {
    "deletable": false,
    "editable": false,
    "id": "c9a0745e",
    "tags": [
     "start_task"
    ]
   },
   "source": [
    "**Задание 4. Выведите количество пропущенных значений для каждого столбца. Используйте комбинацию двух методов.**"
   ]
  },
  {
   "cell_type": "code",
   "execution_count": 5,
   "id": "67a1ed18",
   "metadata": {
    "scrolled": true
   },
   "outputs": [
    {
     "data": {
      "text/plain": [
       "children               0\n",
       "days_employed       2174\n",
       "dob_years              0\n",
       "education              0\n",
       "education_id           0\n",
       "family_status          0\n",
       "family_status_id       0\n",
       "gender                 0\n",
       "income_type            0\n",
       "debt                   0\n",
       "total_income        2174\n",
       "purpose                0\n",
       "dtype: int64"
      ]
     },
     "execution_count": 5,
     "metadata": {},
     "output_type": "execute_result"
    }
   ],
   "source": [
    "data.isna().sum()"
   ]
  },
  {
   "cell_type": "markdown",
   "id": "c2578616",
   "metadata": {
    "deletable": false,
    "editable": false,
    "id": "c2578616",
    "tags": [
     "start_task"
    ]
   },
   "source": [
    "**Задание 5. В двух столбцах есть пропущенные значения. Один из них — `days_employed`. Пропуски в этом столбце вы обработаете на следующем этапе. Другой столбец с пропущенными значениями — `total_income` — хранит данные о доходах. На сумму дохода сильнее всего влияет тип занятости, поэтому заполнить пропуски в этом столбце нужно медианным значением по каждому типу из столбца `income_type`. Например, у человека с типом занятости `сотрудник` пропуск в столбце `total_income` должен быть заполнен медианным доходом среди всех записей с тем же типом.**"
   ]
  },
  {
   "cell_type": "code",
   "execution_count": 6,
   "id": "e8afc4bc",
   "metadata": {
    "id": "e8afc4bc"
   },
   "outputs": [],
   "source": [
    "data['total_income'] = (data.groupby('income_type')['total_income'].transform(lambda x: x.fillna(x.median())))"
   ]
  },
  {
   "cell_type": "markdown",
   "id": "ae986d46",
   "metadata": {
    "deletable": false,
    "editable": false,
    "id": "ae986d46"
   },
   "source": [
    "### Обработка аномальных значений"
   ]
  },
  {
   "cell_type": "markdown",
   "id": "b049cbae",
   "metadata": {
    "deletable": false,
    "editable": false,
    "id": "b049cbae",
    "tags": [
     "start_task"
    ]
   },
   "source": [
    "**Задание 6. В данных могут встречаться артефакты (аномалии) — значения, которые не отражают действительность и появились по какой-то ошибке. Таким артефактом будет отрицательное количество дней трудового стажа в столбце `days_employed`. Для реальных данных это нормально. Обработайте значения в этом столбце: замените все отрицательные значения положительными с помощью метода `abs()`.**"
   ]
  },
  {
   "cell_type": "code",
   "execution_count": 7,
   "id": "187779b0",
   "metadata": {
    "id": "187779b0"
   },
   "outputs": [],
   "source": [
    "data['days_employed'] = data['days_employed'].abs()"
   ]
  },
  {
   "cell_type": "markdown",
   "id": "a13054c2",
   "metadata": {
    "deletable": false,
    "editable": false,
    "id": "a13054c2",
    "tags": [
     "start_task"
    ]
   },
   "source": [
    "**Задание 7. Для каждого типа занятости выведите медианное значение трудового стажа `days_employed` в днях.**"
   ]
  },
  {
   "cell_type": "code",
   "execution_count": 8,
   "id": "f3f5810c",
   "metadata": {
    "id": "f3f5810c"
   },
   "outputs": [
    {
     "data": {
      "text/plain": [
       "income_type\n",
       "безработный        366413.652744\n",
       "в декрете            3296.759962\n",
       "госслужащий          2689.368353\n",
       "компаньон            1547.382223\n",
       "пенсионер          365213.306266\n",
       "предприниматель       520.848083\n",
       "сотрудник            1574.202821\n",
       "студент               578.751554\n",
       "Name: days_employed, dtype: float64"
      ]
     },
     "execution_count": 8,
     "metadata": {},
     "output_type": "execute_result"
    }
   ],
   "source": [
    "data.groupby('income_type')['days_employed'].agg('median')"
   ]
  },
  {
   "cell_type": "markdown",
   "id": "dbc3168c",
   "metadata": {
    "deletable": false,
    "editable": false,
    "id": "dbc3168c"
   },
   "source": [
    "У двух типов (безработные и пенсионеры) получатся аномально большие значения. Исправить такие значения сложно, поэтому оставьте их как есть."
   ]
  },
  {
   "cell_type": "markdown",
   "id": "ff4378c2",
   "metadata": {
    "deletable": false,
    "editable": false,
    "id": "ff4378c2",
    "tags": [
     "start_task"
    ]
   },
   "source": [
    "**Задание 8. Выведите перечень уникальных значений столбца `children`.**"
   ]
  },
  {
   "cell_type": "code",
   "execution_count": 9,
   "id": "9bd0c232",
   "metadata": {
    "id": "9bd0c232"
   },
   "outputs": [
    {
     "data": {
      "text/plain": [
       "array([ 1,  0,  3,  2, -1,  4, 20,  5])"
      ]
     },
     "execution_count": 9,
     "metadata": {},
     "output_type": "execute_result"
    }
   ],
   "source": [
    "data['children'].unique()"
   ]
  },
  {
   "cell_type": "markdown",
   "id": "8e911990",
   "metadata": {
    "deletable": false,
    "editable": false,
    "id": "8e911990",
    "tags": [
     "start_task"
    ]
   },
   "source": [
    "**Задание 9. В столбце `children` есть два аномальных значения. Удалите строки, в которых встречаются такие аномальные значения из датафрейма `data`.**"
   ]
  },
  {
   "cell_type": "code",
   "execution_count": 10,
   "id": "6d5ba289",
   "metadata": {
    "id": "6d5ba289"
   },
   "outputs": [],
   "source": [
    "data = data[(data['children'] != -1) & (data['children'] != 20)]"
   ]
  },
  {
   "cell_type": "markdown",
   "id": "18d77455",
   "metadata": {
    "deletable": false,
    "editable": false,
    "id": "18d77455",
    "tags": [
     "start_task"
    ]
   },
   "source": [
    "**Задание 10. Ещё раз выведите перечень уникальных значений столбца `children`, чтобы убедиться, что артефакты удалены.**"
   ]
  },
  {
   "cell_type": "code",
   "execution_count": 11,
   "id": "2c5fa92c",
   "metadata": {
    "id": "2c5fa92c"
   },
   "outputs": [
    {
     "data": {
      "text/plain": [
       "array([1, 0, 3, 2, 4, 5])"
      ]
     },
     "execution_count": 11,
     "metadata": {},
     "output_type": "execute_result"
    }
   ],
   "source": [
    "data['children'].unique()"
   ]
  },
  {
   "cell_type": "markdown",
   "id": "0ec07dee",
   "metadata": {
    "deletable": false,
    "editable": false,
    "id": "0ec07dee"
   },
   "source": [
    "### Удаление пропусков (продолжение)"
   ]
  },
  {
   "cell_type": "markdown",
   "id": "0fc3ae3f",
   "metadata": {
    "deletable": false,
    "editable": false,
    "id": "0fc3ae3f",
    "tags": [
     "start_task"
    ]
   },
   "source": [
    "**Задание 11. Заполните пропуски в столбце `days_employed` медианными значениями по каждому типу занятости `income_type`.**"
   ]
  },
  {
   "cell_type": "code",
   "execution_count": 12,
   "id": "e2aea7ac",
   "metadata": {
    "id": "e2aea7ac"
   },
   "outputs": [],
   "source": [
    "data['days_employed'] = (data.groupby('income_type')['days_employed'].transform(lambda y: y.fillna(y.median())))"
   ]
  },
  {
   "cell_type": "markdown",
   "id": "97b0b795",
   "metadata": {
    "deletable": false,
    "editable": false,
    "id": "97b0b795",
    "tags": [
     "start_task"
    ]
   },
   "source": [
    "**Задание 12. Убедитесь, что все пропуски заполнены. Проверьте себя и ещё раз выведите количество пропущенных значений для каждого столбца с помощью двух методов.**"
   ]
  },
  {
   "cell_type": "code",
   "execution_count": 13,
   "id": "79632a21",
   "metadata": {
    "id": "79632a21"
   },
   "outputs": [
    {
     "data": {
      "text/plain": [
       "children            0\n",
       "days_employed       0\n",
       "dob_years           0\n",
       "education           0\n",
       "education_id        0\n",
       "family_status       0\n",
       "family_status_id    0\n",
       "gender              0\n",
       "income_type         0\n",
       "debt                0\n",
       "total_income        0\n",
       "purpose             0\n",
       "dtype: int64"
      ]
     },
     "execution_count": 13,
     "metadata": {},
     "output_type": "execute_result"
    }
   ],
   "source": [
    "data.isna().sum()"
   ]
  },
  {
   "cell_type": "markdown",
   "id": "bd4aeb20",
   "metadata": {
    "deletable": false,
    "editable": false,
    "id": "bd4aeb20"
   },
   "source": [
    "### Изменение типов данных"
   ]
  },
  {
   "cell_type": "markdown",
   "id": "963bfa58",
   "metadata": {
    "deletable": false,
    "editable": false,
    "id": "963bfa58",
    "tags": [
     "start_task"
    ]
   },
   "source": [
    "**Задание 13. Замените вещественный тип данных в столбце `total_income` на целочисленный с помощью метода `astype()`.**"
   ]
  },
  {
   "cell_type": "code",
   "execution_count": 14,
   "id": "73da6ea0",
   "metadata": {
    "id": "73da6ea0"
   },
   "outputs": [],
   "source": [
    "data['total_income'] = data['total_income'].astype(int)"
   ]
  },
  {
   "cell_type": "markdown",
   "id": "d290239e",
   "metadata": {
    "deletable": false,
    "editable": false,
    "id": "d290239e"
   },
   "source": [
    "### Обработка дубликатов"
   ]
  },
  {
   "cell_type": "markdown",
   "id": "1b5844fd",
   "metadata": {
    "deletable": false,
    "editable": false,
    "id": "1b5844fd",
    "tags": [
     "start_task"
    ]
   },
   "source": [
    "**Задание 14. Обработайте неявные дубликаты в столбце `education`. В этом столбце есть одни и те же значения, но записанные по-разному: с использованием заглавных и строчных букв. Приведите их к нижнему регистру.**"
   ]
  },
  {
   "cell_type": "code",
   "execution_count": 15,
   "id": "3f2504b3",
   "metadata": {
    "id": "3f2504b3"
   },
   "outputs": [],
   "source": [
    "data['education'] = data['education'].str.lower()"
   ]
  },
  {
   "cell_type": "markdown",
   "id": "4c22acbc",
   "metadata": {
    "deletable": false,
    "editable": false,
    "id": "4c22acbc",
    "tags": [
     "start_task"
    ]
   },
   "source": [
    "**Задание 15. Выведите на экран количество строк-дубликатов в данных. Если такие строки присутствуют, удалите их.**"
   ]
  },
  {
   "cell_type": "code",
   "execution_count": 16,
   "id": "d34a4325",
   "metadata": {
    "id": "d34a4325"
   },
   "outputs": [
    {
     "data": {
      "text/plain": [
       "71"
      ]
     },
     "execution_count": 16,
     "metadata": {},
     "output_type": "execute_result"
    }
   ],
   "source": [
    "data.duplicated().sum()"
   ]
  },
  {
   "cell_type": "code",
   "execution_count": 17,
   "id": "6e1a6499",
   "metadata": {
    "id": "6e1a6499"
   },
   "outputs": [],
   "source": [
    "data = data.drop_duplicates()"
   ]
  },
  {
   "cell_type": "markdown",
   "id": "e5686ccc",
   "metadata": {
    "deletable": false,
    "editable": false,
    "id": "e5686ccc"
   },
   "source": [
    "### Категоризация данных"
   ]
  },
  {
   "cell_type": "markdown",
   "id": "636e9acd",
   "metadata": {
    "deletable": false,
    "editable": false,
    "id": "636e9acd",
    "tags": [
     "start_task"
    ]
   },
   "source": [
    "**Задание 16. На основании диапазонов, указанных ниже, создайте в датафрейме `data` столбец `total_income_category` с категориями:**\n",
    "\n",
    "- 0–30000 — `'E'`;\n",
    "- 30001–50000 — `'D'`;\n",
    "- 50001–200000 — `'C'`;\n",
    "- 200001–1000000 — `'B'`;\n",
    "- 1000001 и выше — `'A'`.\n",
    "\n",
    "\n",
    "**Например, кредитополучателю с доходом 25000 нужно назначить категорию `'E'`, а клиенту, получающему 235000, — `'B'`. Используйте собственную функцию с именем `categorize_income()` и метод `apply()`.**"
   ]
  },
  {
   "cell_type": "code",
   "execution_count": 18,
   "id": "880a77e5",
   "metadata": {
    "id": "880a77e5"
   },
   "outputs": [],
   "source": [
    "def categorize_income(income):\n",
    "    total_income_category = income\n",
    "    if 0 <= income <= 30000:\n",
    "        return 'E'\n",
    "    if 30001 <= income <= 50000:\n",
    "        return 'D'\n",
    "    if 50001 <= income <= 200000:\n",
    "        return 'C'\n",
    "    if 200001 <= income <= 1000000:\n",
    "        return 'B'\n",
    "    return 'A'"
   ]
  },
  {
   "cell_type": "code",
   "execution_count": 19,
   "id": "6f25f161",
   "metadata": {
    "id": "6f25f161"
   },
   "outputs": [],
   "source": [
    "data['total_income_category'] = data['total_income'].apply(categorize_income)"
   ]
  },
  {
   "cell_type": "markdown",
   "id": "3363b685",
   "metadata": {
    "deletable": false,
    "editable": false,
    "id": "3363b685",
    "tags": [
     "start_task"
    ]
   },
   "source": [
    "**Задание 17. Выведите на экран перечень уникальных целей взятия кредита из столбца `purpose`.**"
   ]
  },
  {
   "cell_type": "code",
   "execution_count": 20,
   "id": "20181265",
   "metadata": {
    "id": "e59f2c15"
   },
   "outputs": [
    {
     "data": {
      "text/plain": [
       "array(['покупка жилья', 'приобретение автомобиля',\n",
       "       'дополнительное образование', 'сыграть свадьбу',\n",
       "       'операции с жильем', 'образование', 'на проведение свадьбы',\n",
       "       'покупка жилья для семьи', 'покупка недвижимости',\n",
       "       'покупка коммерческой недвижимости', 'покупка жилой недвижимости',\n",
       "       'строительство собственной недвижимости', 'недвижимость',\n",
       "       'строительство недвижимости', 'на покупку подержанного автомобиля',\n",
       "       'на покупку своего автомобиля',\n",
       "       'операции с коммерческой недвижимостью',\n",
       "       'строительство жилой недвижимости', 'жилье',\n",
       "       'операции со своей недвижимостью', 'автомобили',\n",
       "       'заняться образованием', 'сделка с подержанным автомобилем',\n",
       "       'получение образования', 'автомобиль', 'свадьба',\n",
       "       'получение дополнительного образования', 'покупка своего жилья',\n",
       "       'операции с недвижимостью', 'получение высшего образования',\n",
       "       'свой автомобиль', 'сделка с автомобилем',\n",
       "       'профильное образование', 'высшее образование',\n",
       "       'покупка жилья для сдачи', 'на покупку автомобиля', 'ремонт жилью',\n",
       "       'заняться высшим образованием'], dtype=object)"
      ]
     },
     "execution_count": 20,
     "metadata": {},
     "output_type": "execute_result"
    }
   ],
   "source": [
    "data['purpose'].unique()"
   ]
  },
  {
   "cell_type": "markdown",
   "id": "bb33e847",
   "metadata": {
    "deletable": false,
    "editable": false,
    "id": "bb33e847",
    "tags": [
     "start_task"
    ]
   },
   "source": [
    "**Задание 18. Создайте функцию, которая на основании данных из столбца `purpose` сформирует новый столбец `purpose_category`, в который войдут следующие категории:**\n",
    "\n",
    "- `'операции с автомобилем'`,\n",
    "- `'операции с недвижимостью'`,\n",
    "- `'проведение свадьбы'`,\n",
    "- `'получение образования'`.\n",
    "\n",
    "**Например, если в столбце `purpose` находится подстрока `'на покупку автомобиля'`, то в столбце `purpose_category` должна появиться строка `'операции с автомобилем'`.**\n",
    "\n",
    "**Используйте собственную функцию с именем `categorize_purpose()` и метод `apply()`. Изучите данные в столбце `purpose` и определите, какие подстроки помогут вам правильно определить категорию.**"
   ]
  },
  {
   "cell_type": "code",
   "execution_count": 21,
   "id": "63909b83",
   "metadata": {
    "id": "63909b83"
   },
   "outputs": [],
   "source": [
    "def categorize_purpose(purpose):\n",
    "    try:\n",
    "        if 'автом' in purpose:\n",
    "            return 'операции с автомобилем'\n",
    "        elif 'жил' in purpose or 'недвиж' in purpose:\n",
    "            return 'операции с недвижимостью'\n",
    "        elif 'свад' in purpose:\n",
    "            return 'проведение свадьбы'\n",
    "        elif 'образов' in purpose:\n",
    "            return 'получение образования'\n",
    "    except:\n",
    "        return 'нет категории'"
   ]
  },
  {
   "cell_type": "code",
   "execution_count": 25,
   "id": "7cb4a81d",
   "metadata": {
    "id": "7cb4a81d"
   },
   "outputs": [
    {
     "data": {
      "text/html": [
       "<div>\n",
       "<style scoped>\n",
       "    .dataframe tbody tr th:only-of-type {\n",
       "        vertical-align: middle;\n",
       "    }\n",
       "\n",
       "    .dataframe tbody tr th {\n",
       "        vertical-align: top;\n",
       "    }\n",
       "\n",
       "    .dataframe thead th {\n",
       "        text-align: right;\n",
       "    }\n",
       "</style>\n",
       "<table border=\"1\" class=\"dataframe\">\n",
       "  <thead>\n",
       "    <tr style=\"text-align: right;\">\n",
       "      <th></th>\n",
       "      <th>children</th>\n",
       "      <th>days_employed</th>\n",
       "      <th>dob_years</th>\n",
       "      <th>education</th>\n",
       "      <th>education_id</th>\n",
       "      <th>family_status</th>\n",
       "      <th>family_status_id</th>\n",
       "      <th>gender</th>\n",
       "      <th>income_type</th>\n",
       "      <th>debt</th>\n",
       "      <th>total_income</th>\n",
       "      <th>purpose</th>\n",
       "      <th>total_income_category</th>\n",
       "      <th>purpose_category</th>\n",
       "    </tr>\n",
       "  </thead>\n",
       "  <tbody>\n",
       "    <tr>\n",
       "      <th>0</th>\n",
       "      <td>1</td>\n",
       "      <td>8437.673028</td>\n",
       "      <td>42</td>\n",
       "      <td>высшее</td>\n",
       "      <td>0</td>\n",
       "      <td>женат / замужем</td>\n",
       "      <td>0</td>\n",
       "      <td>F</td>\n",
       "      <td>сотрудник</td>\n",
       "      <td>0</td>\n",
       "      <td>253875</td>\n",
       "      <td>покупка жилья</td>\n",
       "      <td>B</td>\n",
       "      <td>операции с недвижимостью</td>\n",
       "    </tr>\n",
       "    <tr>\n",
       "      <th>1</th>\n",
       "      <td>1</td>\n",
       "      <td>4024.803754</td>\n",
       "      <td>36</td>\n",
       "      <td>среднее</td>\n",
       "      <td>1</td>\n",
       "      <td>женат / замужем</td>\n",
       "      <td>0</td>\n",
       "      <td>F</td>\n",
       "      <td>сотрудник</td>\n",
       "      <td>0</td>\n",
       "      <td>112080</td>\n",
       "      <td>приобретение автомобиля</td>\n",
       "      <td>C</td>\n",
       "      <td>операции с автомобилем</td>\n",
       "    </tr>\n",
       "    <tr>\n",
       "      <th>2</th>\n",
       "      <td>0</td>\n",
       "      <td>5623.422610</td>\n",
       "      <td>33</td>\n",
       "      <td>среднее</td>\n",
       "      <td>1</td>\n",
       "      <td>женат / замужем</td>\n",
       "      <td>0</td>\n",
       "      <td>M</td>\n",
       "      <td>сотрудник</td>\n",
       "      <td>0</td>\n",
       "      <td>145885</td>\n",
       "      <td>покупка жилья</td>\n",
       "      <td>C</td>\n",
       "      <td>операции с недвижимостью</td>\n",
       "    </tr>\n",
       "    <tr>\n",
       "      <th>3</th>\n",
       "      <td>3</td>\n",
       "      <td>4124.747207</td>\n",
       "      <td>32</td>\n",
       "      <td>среднее</td>\n",
       "      <td>1</td>\n",
       "      <td>женат / замужем</td>\n",
       "      <td>0</td>\n",
       "      <td>M</td>\n",
       "      <td>сотрудник</td>\n",
       "      <td>0</td>\n",
       "      <td>267628</td>\n",
       "      <td>дополнительное образование</td>\n",
       "      <td>B</td>\n",
       "      <td>получение образования</td>\n",
       "    </tr>\n",
       "    <tr>\n",
       "      <th>4</th>\n",
       "      <td>0</td>\n",
       "      <td>340266.072047</td>\n",
       "      <td>53</td>\n",
       "      <td>среднее</td>\n",
       "      <td>1</td>\n",
       "      <td>гражданский брак</td>\n",
       "      <td>1</td>\n",
       "      <td>F</td>\n",
       "      <td>пенсионер</td>\n",
       "      <td>0</td>\n",
       "      <td>158616</td>\n",
       "      <td>сыграть свадьбу</td>\n",
       "      <td>C</td>\n",
       "      <td>проведение свадьбы</td>\n",
       "    </tr>\n",
       "  </tbody>\n",
       "</table>\n",
       "</div>"
      ],
      "text/plain": [
       "   children  days_employed  dob_years education  education_id  \\\n",
       "0         1    8437.673028         42    высшее             0   \n",
       "1         1    4024.803754         36   среднее             1   \n",
       "2         0    5623.422610         33   среднее             1   \n",
       "3         3    4124.747207         32   среднее             1   \n",
       "4         0  340266.072047         53   среднее             1   \n",
       "\n",
       "      family_status  family_status_id gender income_type  debt  total_income  \\\n",
       "0   женат / замужем                 0      F   сотрудник     0        253875   \n",
       "1   женат / замужем                 0      F   сотрудник     0        112080   \n",
       "2   женат / замужем                 0      M   сотрудник     0        145885   \n",
       "3   женат / замужем                 0      M   сотрудник     0        267628   \n",
       "4  гражданский брак                 1      F   пенсионер     0        158616   \n",
       "\n",
       "                      purpose total_income_category          purpose_category  \n",
       "0               покупка жилья                     B  операции с недвижимостью  \n",
       "1     приобретение автомобиля                     C    операции с автомобилем  \n",
       "2               покупка жилья                     C  операции с недвижимостью  \n",
       "3  дополнительное образование                     B     получение образования  \n",
       "4             сыграть свадьбу                     C        проведение свадьбы  "
      ]
     },
     "execution_count": 25,
     "metadata": {},
     "output_type": "execute_result"
    }
   ],
   "source": [
    "data['purpose_category'] = data['purpose'].apply(categorize_purpose)\n",
    "data.head(5)"
   ]
  }
 ],
 "metadata": {
  "ExecuteTimeLog": [
   {
    "duration": 421,
    "start_time": "2023-07-11T13:43:37.916Z"
   },
   {
    "duration": 385,
    "start_time": "2023-07-11T13:44:18.897Z"
   },
   {
    "duration": 179,
    "start_time": "2023-07-11T13:46:00.588Z"
   },
   {
    "duration": 113,
    "start_time": "2023-07-11T13:46:10.692Z"
   },
   {
    "duration": 3,
    "start_time": "2023-07-11T13:46:13.057Z"
   },
   {
    "duration": 2,
    "start_time": "2023-07-11T13:46:16.706Z"
   },
   {
    "duration": 71,
    "start_time": "2023-07-11T13:46:17.399Z"
   },
   {
    "duration": 24,
    "start_time": "2023-07-11T13:46:30.991Z"
   },
   {
    "duration": 20,
    "start_time": "2023-07-11T13:46:39.041Z"
   },
   {
    "duration": 17,
    "start_time": "2023-07-11T13:46:56.999Z"
   },
   {
    "duration": 18,
    "start_time": "2023-07-11T13:52:08.303Z"
   },
   {
    "duration": 18,
    "start_time": "2023-07-11T13:56:12.765Z"
   },
   {
    "duration": 17,
    "start_time": "2023-07-11T13:58:08.301Z"
   },
   {
    "duration": 42,
    "start_time": "2023-07-11T13:58:28.305Z"
   },
   {
    "duration": 42,
    "start_time": "2023-07-11T13:58:37.617Z"
   },
   {
    "duration": 2,
    "start_time": "2023-07-11T13:59:37.053Z"
   },
   {
    "duration": 69,
    "start_time": "2023-07-11T13:59:37.629Z"
   },
   {
    "duration": 16,
    "start_time": "2023-07-11T13:59:38.791Z"
   },
   {
    "duration": 15,
    "start_time": "2023-07-11T13:59:40.453Z"
   },
   {
    "duration": 32,
    "start_time": "2023-07-11T13:59:43.479Z"
   },
   {
    "duration": 33,
    "start_time": "2023-07-11T14:01:08.365Z"
   },
   {
    "duration": 32,
    "start_time": "2023-07-11T14:01:22.077Z"
   },
   {
    "duration": 6,
    "start_time": "2023-07-11T14:01:51.352Z"
   },
   {
    "duration": 5,
    "start_time": "2023-07-11T14:02:02.745Z"
   },
   {
    "duration": 17,
    "start_time": "2023-07-11T14:02:38.869Z"
   },
   {
    "duration": 45,
    "start_time": "2023-07-11T14:08:02.156Z"
   },
   {
    "duration": 42,
    "start_time": "2023-07-11T14:08:43.962Z"
   },
   {
    "duration": 32,
    "start_time": "2023-07-11T14:08:58.257Z"
   },
   {
    "duration": 9,
    "start_time": "2023-07-11T14:13:45.487Z"
   },
   {
    "duration": 1715,
    "start_time": "2023-07-11T14:13:51.761Z"
   },
   {
    "duration": 7,
    "start_time": "2023-07-11T14:14:08.998Z"
   },
   {
    "duration": 34,
    "start_time": "2023-07-11T14:14:14.857Z"
   },
   {
    "duration": 7,
    "start_time": "2023-07-11T14:16:29.576Z"
   },
   {
    "duration": 7,
    "start_time": "2023-07-11T14:16:45.694Z"
   },
   {
    "duration": 6,
    "start_time": "2023-07-11T14:17:01.502Z"
   },
   {
    "duration": 7,
    "start_time": "2023-07-11T14:17:12.912Z"
   },
   {
    "duration": 50,
    "start_time": "2023-07-11T14:17:37.196Z"
   },
   {
    "duration": 19,
    "start_time": "2023-07-11T14:18:26.988Z"
   },
   {
    "duration": 31,
    "start_time": "2023-07-11T14:23:06.479Z"
   },
   {
    "duration": 21,
    "start_time": "2023-07-11T14:23:30.654Z"
   },
   {
    "duration": 24,
    "start_time": "2023-07-11T15:39:35.400Z"
   },
   {
    "duration": 4112,
    "start_time": "2023-07-11T15:39:54.103Z"
   },
   {
    "duration": 1116,
    "start_time": "2023-07-11T15:46:34.041Z"
   },
   {
    "duration": 1155,
    "start_time": "2023-07-11T15:46:47.049Z"
   },
   {
    "duration": 9,
    "start_time": "2023-07-11T15:47:03.537Z"
   },
   {
    "duration": 12,
    "start_time": "2023-07-11T15:47:24.701Z"
   },
   {
    "duration": 1170,
    "start_time": "2023-07-11T15:47:56.601Z"
   },
   {
    "duration": 16,
    "start_time": "2023-07-11T15:48:30.065Z"
   },
   {
    "duration": 13,
    "start_time": "2023-07-11T15:48:56.849Z"
   },
   {
    "duration": 12,
    "start_time": "2023-07-11T15:48:59.698Z"
   },
   {
    "duration": 14,
    "start_time": "2023-07-11T15:49:09.206Z"
   },
   {
    "duration": 6,
    "start_time": "2023-07-11T15:50:32.507Z"
   },
   {
    "duration": 7,
    "start_time": "2023-07-11T15:50:41.700Z"
   },
   {
    "duration": 4,
    "start_time": "2023-07-11T15:50:50.601Z"
   },
   {
    "duration": 5,
    "start_time": "2023-07-11T15:52:39.756Z"
   },
   {
    "duration": 4,
    "start_time": "2023-07-11T15:52:54.365Z"
   },
   {
    "duration": 231,
    "start_time": "2023-07-11T15:53:10.499Z"
   },
   {
    "duration": 6,
    "start_time": "2023-07-11T15:53:51.585Z"
   },
   {
    "duration": 11,
    "start_time": "2023-07-11T15:54:14.710Z"
   },
   {
    "duration": 14,
    "start_time": "2023-07-11T15:56:47.617Z"
   },
   {
    "duration": 19,
    "start_time": "2023-07-11T15:58:36.166Z"
   },
   {
    "duration": 19,
    "start_time": "2023-07-11T15:58:42.600Z"
   },
   {
    "duration": 8,
    "start_time": "2023-07-11T16:11:02.069Z"
   },
   {
    "duration": 13,
    "start_time": "2023-07-11T16:11:11.697Z"
   },
   {
    "duration": 28,
    "start_time": "2023-07-11T16:20:59.649Z"
   },
   {
    "duration": 14,
    "start_time": "2023-07-11T16:21:19.397Z"
   },
   {
    "duration": 14,
    "start_time": "2023-07-11T16:21:41.441Z"
   },
   {
    "duration": 7,
    "start_time": "2023-07-11T16:28:52.489Z"
   },
   {
    "duration": 8,
    "start_time": "2023-07-11T16:32:14.181Z"
   },
   {
    "duration": 8,
    "start_time": "2023-07-11T16:32:27.208Z"
   },
   {
    "duration": 19,
    "start_time": "2023-07-11T16:32:34.082Z"
   },
   {
    "duration": 7,
    "start_time": "2023-07-11T16:32:40.393Z"
   },
   {
    "duration": 8,
    "start_time": "2023-07-11T16:32:47.045Z"
   },
   {
    "duration": 8,
    "start_time": "2023-07-11T16:33:22.873Z"
   },
   {
    "duration": 15,
    "start_time": "2023-07-11T16:33:27.255Z"
   },
   {
    "duration": 9,
    "start_time": "2023-07-11T16:33:52.193Z"
   },
   {
    "duration": 11,
    "start_time": "2023-07-11T16:34:08.146Z"
   },
   {
    "duration": 7,
    "start_time": "2023-07-11T16:34:14.843Z"
   },
   {
    "duration": 15,
    "start_time": "2023-07-11T16:35:35.745Z"
   },
   {
    "duration": 7,
    "start_time": "2023-07-11T16:37:45.637Z"
   },
   {
    "duration": 7,
    "start_time": "2023-07-11T16:37:50.024Z"
   },
   {
    "duration": 10,
    "start_time": "2023-07-11T16:38:05.241Z"
   },
   {
    "duration": 437,
    "start_time": "2023-07-11T16:44:13.194Z"
   },
   {
    "duration": 178,
    "start_time": "2023-07-11T16:44:13.633Z"
   },
   {
    "duration": 26,
    "start_time": "2023-07-11T16:44:13.878Z"
   },
   {
    "duration": 30,
    "start_time": "2023-07-11T16:44:14.953Z"
   },
   {
    "duration": 11,
    "start_time": "2023-07-11T16:44:16.786Z"
   },
   {
    "duration": 16,
    "start_time": "2023-07-11T16:44:17.627Z"
   },
   {
    "duration": 6,
    "start_time": "2023-07-11T16:44:19.701Z"
   },
   {
    "duration": 7,
    "start_time": "2023-07-11T16:45:11.445Z"
   },
   {
    "duration": 11,
    "start_time": "2023-07-11T16:45:29.358Z"
   },
   {
    "duration": 9,
    "start_time": "2023-07-11T16:51:39.991Z"
   },
   {
    "duration": 3,
    "start_time": "2023-07-11T16:51:55.659Z"
   },
   {
    "duration": 15,
    "start_time": "2023-07-11T16:53:55.188Z"
   },
   {
    "duration": 31,
    "start_time": "2023-07-11T16:57:37.570Z"
   },
   {
    "duration": 2,
    "start_time": "2023-07-11T17:00:23.004Z"
   },
   {
    "duration": 73,
    "start_time": "2023-07-11T17:00:23.179Z"
   },
   {
    "duration": 17,
    "start_time": "2023-07-11T17:00:23.516Z"
   },
   {
    "duration": 16,
    "start_time": "2023-07-11T17:00:23.956Z"
   },
   {
    "duration": 11,
    "start_time": "2023-07-11T17:00:25.107Z"
   },
   {
    "duration": 13,
    "start_time": "2023-07-11T17:00:25.497Z"
   },
   {
    "duration": 5,
    "start_time": "2023-07-11T17:00:26.508Z"
   },
   {
    "duration": 19,
    "start_time": "2023-07-11T17:00:27.398Z"
   },
   {
    "duration": 6,
    "start_time": "2023-07-11T17:02:05.448Z"
   },
   {
    "duration": 102,
    "start_time": "2023-07-11T17:02:43.295Z"
   },
   {
    "duration": 8,
    "start_time": "2023-07-11T17:27:33.338Z"
   },
   {
    "duration": 6,
    "start_time": "2023-07-11T17:27:43.396Z"
   },
   {
    "duration": 5,
    "start_time": "2023-07-11T17:28:41.492Z"
   },
   {
    "duration": 6,
    "start_time": "2023-07-11T17:28:47.399Z"
   },
   {
    "duration": 81,
    "start_time": "2023-07-11T17:29:28.755Z"
   },
   {
    "duration": 8,
    "start_time": "2023-07-11T17:29:41.513Z"
   },
   {
    "duration": 9,
    "start_time": "2023-07-11T17:32:45.578Z"
   },
   {
    "duration": 11,
    "start_time": "2023-07-11T17:32:57.525Z"
   },
   {
    "duration": 9,
    "start_time": "2023-07-11T17:33:56.897Z"
   },
   {
    "duration": 19,
    "start_time": "2023-07-11T17:34:13.749Z"
   },
   {
    "duration": 9,
    "start_time": "2023-07-11T17:35:02.471Z"
   },
   {
    "duration": 9,
    "start_time": "2023-07-11T17:35:12.220Z"
   },
   {
    "duration": 3,
    "start_time": "2023-07-11T17:35:16.534Z"
   },
   {
    "duration": 78,
    "start_time": "2023-07-11T17:35:16.736Z"
   },
   {
    "duration": 17,
    "start_time": "2023-07-11T17:35:17.267Z"
   },
   {
    "duration": 22,
    "start_time": "2023-07-11T17:35:17.667Z"
   },
   {
    "duration": 12,
    "start_time": "2023-07-11T17:35:18.838Z"
   },
   {
    "duration": 15,
    "start_time": "2023-07-11T17:35:19.344Z"
   },
   {
    "duration": 13,
    "start_time": "2023-07-11T17:35:26.741Z"
   },
   {
    "duration": 4,
    "start_time": "2023-07-11T17:35:27.803Z"
   },
   {
    "duration": 12,
    "start_time": "2023-07-11T17:35:28.630Z"
   },
   {
    "duration": 13,
    "start_time": "2023-07-11T17:36:07.318Z"
   },
   {
    "duration": 8,
    "start_time": "2023-07-11T17:45:18.294Z"
   },
   {
    "duration": 5,
    "start_time": "2023-07-11T17:46:22.800Z"
   },
   {
    "duration": 3,
    "start_time": "2023-07-11T17:50:45.109Z"
   },
   {
    "duration": 444,
    "start_time": "2023-07-11T17:51:34.356Z"
   },
   {
    "duration": 144,
    "start_time": "2023-07-11T17:51:34.802Z"
   },
   {
    "duration": 30,
    "start_time": "2023-07-11T17:51:34.948Z"
   },
   {
    "duration": 17,
    "start_time": "2023-07-11T17:51:35.288Z"
   },
   {
    "duration": 11,
    "start_time": "2023-07-11T17:51:36.371Z"
   },
   {
    "duration": 15,
    "start_time": "2023-07-11T17:51:37.092Z"
   },
   {
    "duration": 4,
    "start_time": "2023-07-11T17:51:37.710Z"
   },
   {
    "duration": 9,
    "start_time": "2023-07-11T17:51:38.082Z"
   },
   {
    "duration": 5,
    "start_time": "2023-07-11T17:51:38.927Z"
   },
   {
    "duration": 4,
    "start_time": "2023-07-11T17:51:39.824Z"
   },
   {
    "duration": 5,
    "start_time": "2023-07-11T17:52:11.189Z"
   },
   {
    "duration": 9,
    "start_time": "2023-07-11T17:52:33.010Z"
   },
   {
    "duration": 13,
    "start_time": "2023-07-11T17:52:44.851Z"
   },
   {
    "duration": 22,
    "start_time": "2023-07-11T17:55:24.687Z"
   },
   {
    "duration": 12,
    "start_time": "2023-07-11T17:55:42.002Z"
   },
   {
    "duration": 9,
    "start_time": "2023-07-11T17:57:41.835Z"
   },
   {
    "duration": 3,
    "start_time": "2023-07-11T17:58:02.471Z"
   },
   {
    "duration": 88,
    "start_time": "2023-07-11T17:58:02.819Z"
   },
   {
    "duration": 17,
    "start_time": "2023-07-11T17:58:03.194Z"
   },
   {
    "duration": 17,
    "start_time": "2023-07-11T17:58:03.570Z"
   },
   {
    "duration": 10,
    "start_time": "2023-07-11T17:58:04.417Z"
   },
   {
    "duration": 21,
    "start_time": "2023-07-11T17:58:05.251Z"
   },
   {
    "duration": 4,
    "start_time": "2023-07-11T17:58:06.415Z"
   },
   {
    "duration": 20,
    "start_time": "2023-07-11T17:58:07.746Z"
   },
   {
    "duration": 5,
    "start_time": "2023-07-11T17:58:10.185Z"
   },
   {
    "duration": 6,
    "start_time": "2023-07-11T17:58:10.787Z"
   },
   {
    "duration": 15,
    "start_time": "2023-07-11T17:58:11.851Z"
   },
   {
    "duration": 3,
    "start_time": "2023-07-11T17:58:13.870Z"
   },
   {
    "duration": 14,
    "start_time": "2023-07-11T18:00:26.231Z"
   },
   {
    "duration": 16,
    "start_time": "2023-07-11T18:02:08.727Z"
   },
   {
    "duration": 6,
    "start_time": "2023-07-11T18:02:56.910Z"
   },
   {
    "duration": 77,
    "start_time": "2023-07-11T18:03:19.434Z"
   },
   {
    "duration": 5,
    "start_time": "2023-07-11T18:03:30.327Z"
   },
   {
    "duration": 15,
    "start_time": "2023-07-11T18:06:01.205Z"
   },
   {
    "duration": 24,
    "start_time": "2023-07-11T18:07:49.951Z"
   },
   {
    "duration": 28,
    "start_time": "2023-07-11T18:10:03.066Z"
   },
   {
    "duration": 29,
    "start_time": "2023-07-11T18:10:23.657Z"
   },
   {
    "duration": 2,
    "start_time": "2023-07-11T18:30:33.404Z"
   },
   {
    "duration": 7,
    "start_time": "2023-07-11T18:30:34.984Z"
   },
   {
    "duration": 120,
    "start_time": "2023-07-11T18:30:35.146Z"
   },
   {
    "duration": 18,
    "start_time": "2023-07-11T18:30:35.502Z"
   },
   {
    "duration": 21,
    "start_time": "2023-07-11T18:30:35.840Z"
   },
   {
    "duration": 15,
    "start_time": "2023-07-11T18:30:37.411Z"
   },
   {
    "duration": 25,
    "start_time": "2023-07-11T18:30:37.749Z"
   },
   {
    "duration": 5,
    "start_time": "2023-07-11T18:30:38.302Z"
   },
   {
    "duration": 20,
    "start_time": "2023-07-11T18:30:38.684Z"
   },
   {
    "duration": 5,
    "start_time": "2023-07-11T18:30:39.237Z"
   },
   {
    "duration": 7,
    "start_time": "2023-07-11T18:30:39.598Z"
   },
   {
    "duration": 15,
    "start_time": "2023-07-11T18:30:39.988Z"
   },
   {
    "duration": 28,
    "start_time": "2023-07-11T18:30:40.555Z"
   },
   {
    "duration": 14,
    "start_time": "2023-07-11T18:30:40.914Z"
   },
   {
    "duration": 7,
    "start_time": "2023-07-11T18:30:41.510Z"
   },
   {
    "duration": 29,
    "start_time": "2023-07-11T18:30:42.094Z"
   },
   {
    "duration": 16,
    "start_time": "2023-07-11T18:30:42.561Z"
   },
   {
    "duration": 12,
    "start_time": "2023-07-11T18:37:59.587Z"
   },
   {
    "duration": 19,
    "start_time": "2023-07-11T18:38:21.011Z"
   },
   {
    "duration": 44,
    "start_time": "2023-07-11T18:39:03.667Z"
   },
   {
    "duration": 10,
    "start_time": "2023-07-11T18:39:37.439Z"
   },
   {
    "duration": 8,
    "start_time": "2023-07-11T18:39:42.887Z"
   },
   {
    "duration": 23,
    "start_time": "2023-07-11T18:39:57.391Z"
   },
   {
    "duration": 14,
    "start_time": "2023-07-11T18:42:36.347Z"
   },
   {
    "duration": 35,
    "start_time": "2023-07-11T18:43:46.944Z"
   },
   {
    "duration": 33,
    "start_time": "2023-07-11T18:44:06.509Z"
   },
   {
    "duration": 39,
    "start_time": "2023-07-11T18:45:24.751Z"
   },
   {
    "duration": 20,
    "start_time": "2023-07-11T18:45:25.498Z"
   },
   {
    "duration": 7,
    "start_time": "2023-07-11T18:45:30.352Z"
   },
   {
    "duration": 115,
    "start_time": "2023-07-11T18:45:30.708Z"
   },
   {
    "duration": 25,
    "start_time": "2023-07-11T18:45:31.093Z"
   },
   {
    "duration": 24,
    "start_time": "2023-07-11T18:45:31.409Z"
   },
   {
    "duration": 11,
    "start_time": "2023-07-11T18:45:32.199Z"
   },
   {
    "duration": 27,
    "start_time": "2023-07-11T18:45:32.569Z"
   },
   {
    "duration": 4,
    "start_time": "2023-07-11T18:45:33.103Z"
   },
   {
    "duration": 23,
    "start_time": "2023-07-11T18:45:33.486Z"
   },
   {
    "duration": 17,
    "start_time": "2023-07-11T18:45:34.476Z"
   },
   {
    "duration": 27,
    "start_time": "2023-07-11T18:45:35.082Z"
   },
   {
    "duration": 7,
    "start_time": "2023-07-11T18:45:35.588Z"
   },
   {
    "duration": 15,
    "start_time": "2023-07-11T18:45:36.699Z"
   },
   {
    "duration": 11,
    "start_time": "2023-07-11T18:45:37.125Z"
   },
   {
    "duration": 4,
    "start_time": "2023-07-11T18:45:37.904Z"
   },
   {
    "duration": 19,
    "start_time": "2023-07-11T18:45:38.945Z"
   },
   {
    "duration": 28,
    "start_time": "2023-07-11T18:45:39.984Z"
   },
   {
    "duration": 33,
    "start_time": "2023-07-11T18:46:00.187Z"
   },
   {
    "duration": 3,
    "start_time": "2023-07-11T18:47:10.928Z"
   },
   {
    "duration": 103,
    "start_time": "2023-07-11T18:47:11.312Z"
   },
   {
    "duration": 17,
    "start_time": "2023-07-11T18:47:11.690Z"
   },
   {
    "duration": 22,
    "start_time": "2023-07-11T18:47:12.081Z"
   },
   {
    "duration": 11,
    "start_time": "2023-07-11T18:47:12.907Z"
   },
   {
    "duration": 19,
    "start_time": "2023-07-11T18:47:13.271Z"
   },
   {
    "duration": 4,
    "start_time": "2023-07-11T18:47:14.290Z"
   },
   {
    "duration": 10,
    "start_time": "2023-07-11T18:47:14.687Z"
   },
   {
    "duration": 5,
    "start_time": "2023-07-11T18:47:15.445Z"
   },
   {
    "duration": 8,
    "start_time": "2023-07-11T18:47:16.092Z"
   },
   {
    "duration": 5,
    "start_time": "2023-07-11T18:47:17.103Z"
   },
   {
    "duration": 14,
    "start_time": "2023-07-11T18:47:18.404Z"
   },
   {
    "duration": 12,
    "start_time": "2023-07-11T18:47:18.992Z"
   },
   {
    "duration": 5,
    "start_time": "2023-07-11T18:47:20.234Z"
   },
   {
    "duration": 14,
    "start_time": "2023-07-11T18:47:21.184Z"
   },
   {
    "duration": 33,
    "start_time": "2023-07-11T18:47:22.586Z"
   },
   {
    "duration": 10,
    "start_time": "2023-07-11T18:47:39.190Z"
   },
   {
    "duration": 30,
    "start_time": "2023-07-11T18:47:57.286Z"
   },
   {
    "duration": 35,
    "start_time": "2023-07-11T18:49:10.887Z"
   },
   {
    "duration": 44,
    "start_time": "2023-07-11T18:49:21.888Z"
   },
   {
    "duration": 57,
    "start_time": "2023-07-11T18:49:37.635Z"
   },
   {
    "duration": 30,
    "start_time": "2023-07-11T18:50:04.378Z"
   },
   {
    "duration": 13,
    "start_time": "2023-07-11T18:50:07.728Z"
   },
   {
    "duration": 21,
    "start_time": "2023-07-11T18:50:20.394Z"
   },
   {
    "duration": 4,
    "start_time": "2023-07-11T18:51:37.690Z"
   },
   {
    "duration": 69,
    "start_time": "2023-07-11T18:51:37.881Z"
   },
   {
    "duration": 24,
    "start_time": "2023-07-11T18:51:38.241Z"
   },
   {
    "duration": 16,
    "start_time": "2023-07-11T18:51:38.595Z"
   },
   {
    "duration": 11,
    "start_time": "2023-07-11T18:51:39.314Z"
   },
   {
    "duration": 13,
    "start_time": "2023-07-11T18:51:39.729Z"
   },
   {
    "duration": 5,
    "start_time": "2023-07-11T18:51:40.301Z"
   },
   {
    "duration": 22,
    "start_time": "2023-07-11T18:51:40.661Z"
   },
   {
    "duration": 5,
    "start_time": "2023-07-11T18:51:41.194Z"
   },
   {
    "duration": 6,
    "start_time": "2023-07-11T18:51:41.649Z"
   },
   {
    "duration": 5,
    "start_time": "2023-07-11T18:51:41.981Z"
   },
   {
    "duration": 15,
    "start_time": "2023-07-11T18:51:42.700Z"
   },
   {
    "duration": 13,
    "start_time": "2023-07-11T18:51:43.097Z"
   },
   {
    "duration": 8,
    "start_time": "2023-07-11T18:51:44.166Z"
   },
   {
    "duration": 11,
    "start_time": "2023-07-11T18:51:45.198Z"
   },
   {
    "duration": 27,
    "start_time": "2023-07-11T18:51:46.166Z"
   },
   {
    "duration": 23,
    "start_time": "2023-07-11T18:51:47.708Z"
   },
   {
    "duration": 26,
    "start_time": "2023-07-11T18:57:49.965Z"
   },
   {
    "duration": 41,
    "start_time": "2023-07-11T18:58:00.349Z"
   },
   {
    "duration": 2,
    "start_time": "2023-07-11T18:58:34.087Z"
   },
   {
    "duration": 82,
    "start_time": "2023-07-11T18:58:34.537Z"
   },
   {
    "duration": 16,
    "start_time": "2023-07-11T18:58:35.297Z"
   },
   {
    "duration": 16,
    "start_time": "2023-07-11T18:58:35.798Z"
   },
   {
    "duration": 11,
    "start_time": "2023-07-11T18:58:36.801Z"
   },
   {
    "duration": 16,
    "start_time": "2023-07-11T18:58:37.186Z"
   },
   {
    "duration": 4,
    "start_time": "2023-07-11T18:58:37.906Z"
   },
   {
    "duration": 15,
    "start_time": "2023-07-11T18:58:38.482Z"
   },
   {
    "duration": 6,
    "start_time": "2023-07-11T18:58:39.174Z"
   },
   {
    "duration": 10,
    "start_time": "2023-07-11T18:58:39.586Z"
   },
   {
    "duration": 12,
    "start_time": "2023-07-11T18:58:39.982Z"
   },
   {
    "duration": 12,
    "start_time": "2023-07-11T18:58:40.713Z"
   },
   {
    "duration": 23,
    "start_time": "2023-07-11T18:58:41.143Z"
   },
   {
    "duration": 7,
    "start_time": "2023-07-11T18:58:42.682Z"
   },
   {
    "duration": 17,
    "start_time": "2023-07-11T18:58:45.243Z"
   },
   {
    "duration": 29,
    "start_time": "2023-07-11T18:58:47.879Z"
   },
   {
    "duration": 24,
    "start_time": "2023-07-11T18:59:27.011Z"
   },
   {
    "duration": 35,
    "start_time": "2023-07-11T18:59:27.747Z"
   },
   {
    "duration": 130,
    "start_time": "2023-07-11T19:04:20.304Z"
   },
   {
    "duration": 155,
    "start_time": "2023-07-11T19:04:25.356Z"
   },
   {
    "duration": 123,
    "start_time": "2023-07-11T19:04:44.845Z"
   },
   {
    "duration": 129,
    "start_time": "2023-07-11T19:04:56.178Z"
   },
   {
    "duration": 5,
    "start_time": "2023-07-11T19:05:02.320Z"
   },
   {
    "duration": 2293,
    "start_time": "2023-07-11T19:06:21.779Z"
   },
   {
    "duration": 11,
    "start_time": "2023-07-11T19:06:36.949Z"
   },
   {
    "duration": 644,
    "start_time": "2023-07-11T19:06:47.432Z"
   },
   {
    "duration": 622,
    "start_time": "2023-07-11T19:08:17.795Z"
   },
   {
    "duration": 13,
    "start_time": "2023-07-11T19:08:32.637Z"
   },
   {
    "duration": 29,
    "start_time": "2023-07-11T19:08:43.447Z"
   },
   {
    "duration": 6,
    "start_time": "2023-07-11T19:09:52.184Z"
   },
   {
    "duration": 130,
    "start_time": "2023-07-11T19:12:46.699Z"
   },
   {
    "duration": 111,
    "start_time": "2023-07-11T19:18:38.080Z"
   },
   {
    "duration": 124,
    "start_time": "2023-07-11T19:18:44.989Z"
   },
   {
    "duration": 124,
    "start_time": "2023-07-11T19:19:00.880Z"
   },
   {
    "duration": 109,
    "start_time": "2023-07-11T19:19:10.131Z"
   },
   {
    "duration": 4,
    "start_time": "2023-07-11T19:19:29.585Z"
   },
   {
    "duration": 122,
    "start_time": "2023-07-11T19:19:43.211Z"
   },
   {
    "duration": 115,
    "start_time": "2023-07-11T19:19:50.914Z"
   },
   {
    "duration": 112,
    "start_time": "2023-07-11T19:20:25.844Z"
   },
   {
    "duration": 6,
    "start_time": "2023-07-11T19:20:34.803Z"
   },
   {
    "duration": 6,
    "start_time": "2023-07-11T19:23:36.746Z"
   },
   {
    "duration": 5,
    "start_time": "2023-07-11T19:25:58.304Z"
   },
   {
    "duration": 5,
    "start_time": "2023-07-11T19:26:20.497Z"
   },
   {
    "duration": 3,
    "start_time": "2023-07-11T19:27:13.978Z"
   },
   {
    "duration": 9,
    "start_time": "2023-07-11T19:28:06.687Z"
   },
   {
    "duration": 14,
    "start_time": "2023-07-11T19:28:41.905Z"
   },
   {
    "duration": 7,
    "start_time": "2023-07-11T19:28:54.740Z"
   },
   {
    "duration": 4,
    "start_time": "2023-07-11T19:28:56.203Z"
   },
   {
    "duration": 13,
    "start_time": "2023-07-11T19:28:56.826Z"
   },
   {
    "duration": 22,
    "start_time": "2023-07-11T19:30:14.322Z"
   },
   {
    "duration": 19,
    "start_time": "2023-07-11T19:30:27.834Z"
   },
   {
    "duration": 7,
    "start_time": "2023-07-11T19:30:38.378Z"
   },
   {
    "duration": 18,
    "start_time": "2023-07-11T19:30:43.706Z"
   },
   {
    "duration": 18,
    "start_time": "2023-07-11T19:30:53.985Z"
   },
   {
    "duration": 19,
    "start_time": "2023-07-11T19:30:59.781Z"
   },
   {
    "duration": 3,
    "start_time": "2023-07-11T19:31:22.785Z"
   },
   {
    "duration": 18,
    "start_time": "2023-07-11T19:31:25.967Z"
   },
   {
    "duration": 20,
    "start_time": "2023-07-11T19:31:31.501Z"
   },
   {
    "duration": 3,
    "start_time": "2023-07-11T19:32:23.137Z"
   },
   {
    "duration": 81,
    "start_time": "2023-07-11T19:32:23.313Z"
   },
   {
    "duration": 16,
    "start_time": "2023-07-11T19:32:23.683Z"
   },
   {
    "duration": 17,
    "start_time": "2023-07-11T19:32:24.192Z"
   },
   {
    "duration": 11,
    "start_time": "2023-07-11T19:32:24.885Z"
   },
   {
    "duration": 20,
    "start_time": "2023-07-11T19:32:25.242Z"
   },
   {
    "duration": 4,
    "start_time": "2023-07-11T19:32:25.746Z"
   },
   {
    "duration": 9,
    "start_time": "2023-07-11T19:32:26.102Z"
   },
   {
    "duration": 6,
    "start_time": "2023-07-11T19:32:26.620Z"
   },
   {
    "duration": 6,
    "start_time": "2023-07-11T19:32:26.993Z"
   },
   {
    "duration": 5,
    "start_time": "2023-07-11T19:32:27.387Z"
   },
   {
    "duration": 13,
    "start_time": "2023-07-11T19:32:27.926Z"
   },
   {
    "duration": 11,
    "start_time": "2023-07-11T19:32:28.818Z"
   },
   {
    "duration": 4,
    "start_time": "2023-07-11T19:32:28.887Z"
   },
   {
    "duration": 12,
    "start_time": "2023-07-11T19:32:29.426Z"
   },
   {
    "duration": 21,
    "start_time": "2023-07-11T19:32:29.987Z"
   },
   {
    "duration": 19,
    "start_time": "2023-07-11T19:32:30.186Z"
   },
   {
    "duration": 3,
    "start_time": "2023-07-11T19:32:30.710Z"
   },
   {
    "duration": 12,
    "start_time": "2023-07-11T19:32:30.907Z"
   },
   {
    "duration": 6,
    "start_time": "2023-07-11T19:32:31.283Z"
   },
   {
    "duration": 5,
    "start_time": "2023-07-11T19:32:32.224Z"
   },
   {
    "duration": 13,
    "start_time": "2023-07-11T19:32:33.131Z"
   },
   {
    "duration": 3,
    "start_time": "2023-07-11T19:33:43.289Z"
   },
   {
    "duration": 79,
    "start_time": "2023-07-11T19:33:43.799Z"
   },
   {
    "duration": 17,
    "start_time": "2023-07-11T19:33:43.880Z"
   },
   {
    "duration": 17,
    "start_time": "2023-07-11T19:33:43.925Z"
   },
   {
    "duration": 10,
    "start_time": "2023-07-11T19:33:44.040Z"
   },
   {
    "duration": 12,
    "start_time": "2023-07-11T19:33:44.103Z"
   },
   {
    "duration": 4,
    "start_time": "2023-07-11T19:33:44.194Z"
   },
   {
    "duration": 9,
    "start_time": "2023-07-11T19:33:44.268Z"
   },
   {
    "duration": 5,
    "start_time": "2023-07-11T19:33:44.347Z"
   },
   {
    "duration": 7,
    "start_time": "2023-07-11T19:33:44.407Z"
   },
   {
    "duration": 5,
    "start_time": "2023-07-11T19:33:44.489Z"
   },
   {
    "duration": 13,
    "start_time": "2023-07-11T19:33:44.571Z"
   },
   {
    "duration": 15,
    "start_time": "2023-07-11T19:33:44.620Z"
   },
   {
    "duration": 4,
    "start_time": "2023-07-11T19:33:44.708Z"
   },
   {
    "duration": 12,
    "start_time": "2023-07-11T19:33:44.805Z"
   },
   {
    "duration": 31,
    "start_time": "2023-07-11T19:33:44.913Z"
   },
   {
    "duration": 28,
    "start_time": "2023-07-11T19:33:44.954Z"
   },
   {
    "duration": 4,
    "start_time": "2023-07-11T19:33:45.020Z"
   },
   {
    "duration": 34,
    "start_time": "2023-07-11T19:33:45.036Z"
   },
   {
    "duration": 7,
    "start_time": "2023-07-11T19:33:45.082Z"
   },
   {
    "duration": 4,
    "start_time": "2023-07-11T19:33:45.133Z"
   },
   {
    "duration": 14,
    "start_time": "2023-07-11T19:33:45.189Z"
   },
   {
    "duration": 7,
    "start_time": "2023-07-11T19:34:27.456Z"
   },
   {
    "duration": 6,
    "start_time": "2023-07-11T19:34:47.171Z"
   },
   {
    "duration": 4,
    "start_time": "2023-07-11T19:34:53.604Z"
   },
   {
    "duration": 9,
    "start_time": "2023-07-11T19:34:53.770Z"
   },
   {
    "duration": 480,
    "start_time": "2024-09-30T14:26:31.823Z"
   },
   {
    "duration": 312,
    "start_time": "2024-09-30T14:26:32.305Z"
   },
   {
    "duration": 23,
    "start_time": "2024-09-30T14:26:32.619Z"
   },
   {
    "duration": 17,
    "start_time": "2024-09-30T14:26:32.643Z"
   },
   {
    "duration": 12,
    "start_time": "2024-09-30T14:26:32.662Z"
   },
   {
    "duration": 14,
    "start_time": "2024-09-30T14:26:32.675Z"
   },
   {
    "duration": 3,
    "start_time": "2024-09-30T14:26:32.691Z"
   },
   {
    "duration": 47,
    "start_time": "2024-09-30T14:26:32.696Z"
   },
   {
    "duration": 4,
    "start_time": "2024-09-30T14:26:32.745Z"
   },
   {
    "duration": 7,
    "start_time": "2024-09-30T14:26:32.751Z"
   },
   {
    "duration": 6,
    "start_time": "2024-09-30T14:26:32.760Z"
   },
   {
    "duration": 18,
    "start_time": "2024-09-30T14:26:32.768Z"
   },
   {
    "duration": 37,
    "start_time": "2024-09-30T14:26:32.789Z"
   },
   {
    "duration": 26,
    "start_time": "2024-09-30T14:26:32.829Z"
   },
   {
    "duration": 80,
    "start_time": "2024-09-30T14:26:32.857Z"
   },
   {
    "duration": 24,
    "start_time": "2024-09-30T14:26:32.938Z"
   },
   {
    "duration": 19,
    "start_time": "2024-09-30T14:26:32.964Z"
   },
   {
    "duration": 4,
    "start_time": "2024-09-30T14:26:32.985Z"
   },
   {
    "duration": 25,
    "start_time": "2024-09-30T14:26:32.992Z"
   },
   {
    "duration": 13,
    "start_time": "2024-09-30T14:26:33.026Z"
   },
   {
    "duration": 4,
    "start_time": "2024-09-30T14:26:33.041Z"
   },
   {
    "duration": 10,
    "start_time": "2024-09-30T14:26:33.046Z"
   },
   {
    "duration": 9,
    "start_time": "2024-09-30T14:26:44.810Z"
   },
   {
    "duration": 27,
    "start_time": "2024-09-30T14:26:53.737Z"
   },
   {
    "duration": 25,
    "start_time": "2024-09-30T14:27:06.580Z"
   }
  ],
  "colab": {
   "provenance": []
  },
  "kernelspec": {
   "display_name": "Python 3 (ipykernel)",
   "language": "python",
   "name": "python3"
  },
  "language_info": {
   "codemirror_mode": {
    "name": "ipython",
    "version": 3
   },
   "file_extension": ".py",
   "mimetype": "text/x-python",
   "name": "python",
   "nbconvert_exporter": "python",
   "pygments_lexer": "ipython3",
   "version": "3.11.7"
  },
  "toc": {
   "base_numbering": 1,
   "nav_menu": {},
   "number_sections": true,
   "sideBar": true,
   "skip_h1_title": true,
   "title_cell": "Table of Contents",
   "title_sidebar": "Contents",
   "toc_cell": false,
   "toc_position": {},
   "toc_section_display": true,
   "toc_window_display": false
  }
 },
 "nbformat": 4,
 "nbformat_minor": 5
}
